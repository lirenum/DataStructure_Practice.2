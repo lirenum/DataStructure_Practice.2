{
 "cells": [
  {
   "cell_type": "markdown",
   "metadata": {
    "QUESTION": "DETAILS",
    "TYPE": "ANSWER",
    "cellcol": "answercell"
   },
   "source": [
    "### Edit this cell to enter your name and PI. Then run the JavaScript cell below to identify answer and feedback cells.\n",
    "**Liran sindel:**\\\n",
    "**J7336721:** \n"
   ]
  },
  {
   "cell_type": "code",
   "execution_count": 1,
   "metadata": {
    "TYPE": "SPECIAL",
    "jupyter.outputs_hidden": true
   },
   "outputs": [
    {
     "data": {
      "application/javascript": [
       "var head=document.getElementsByTagName('head')[0],style = document.createElement('style'),css = '.answercell{background-color: #ffffcc;}.feedbackcell{background-color: #c8ecff;}.guidancecell{background-color: #f2c0d4;}';head.appendChild(style);style.type = 'text/css';style.appendChild(document.createTextNode(css));Jupyter.notebook.get_cells().map(function(cell) {if (cell.metadata['cellcol']!= undefined) {cell.element.addClass(cell.metadata['cellcol']);}});\n"
      ],
      "text/plain": [
       "<IPython.core.display.Javascript object>"
      ]
     },
     "metadata": {},
     "output_type": "display_data"
    }
   ],
   "source": [
    "%%javascript\n",
    "var head=document.getElementsByTagName('head')[0],style = document.createElement('style'),css = '.answercell{background-color: #ffffcc;}.feedbackcell{background-color: #c8ecff;}.guidancecell{background-color: #f2c0d4;}';head.appendChild(style);style.type = 'text/css';style.appendChild(document.createTextNode(css));Jupyter.notebook.get_cells().map(function(cell) {if (cell.metadata['cellcol']!= undefined) {cell.element.addClass(cell.metadata['cellcol']);}});"
   ]
  },
  {
   "cell_type": "markdown",
   "metadata": {
    "TYPE": "TEXT",
    "deletable": false,
    "editable": false
   },
   "source": [
    "# TMA 02\n",
    "M269 requires all assignments to be submitted electronically, by following the\n",
    "link(s) from your StudentHome page to the online TMA/EMA service.\n",
    "\n",
    "If you foresee any difficulty with submitting your assignment on time then you\n",
    "should contact your tutor well in advance of the cut-off date.\n",
    "\n",
    "For further information about policy, procedure and general submission of\n",
    "assignments please refer to the [Assessment Handbook](https://help.open.ac.uk/documents/policies/assessment-handbook), which can also be accessed\n",
    "via your StudentHome page.\n",
    "\n",
    "The learning outcomes assessed by each questions are outlined at the head of\n",
    "the question.\n",
    "\n",
    "If you use an algorithm, data structure or operation that is not allowed in a\n",
    "part of a question, your answer to that part will be awarded zero marks.\n",
    "\n",
    "Your TMA should be opened and edited in Jupyter notebooks. Ensure you put your\n",
    "name and PI at the top of this document. You should run the second cell to\n",
    "highlight the answer cells in yellow.\n",
    "\n",
    "All of TMA 02 is in this document. There are four questions worth 100 marks.\n",
    "\n"
   ]
  },
  {
   "cell_type": "markdown",
   "metadata": {
    "TYPE": "TEXT",
    "deletable": false,
    "editable": false
   },
   "source": [
    "## PART 1\n"
   ]
  },
  {
   "cell_type": "markdown",
   "metadata": {
    "TYPE": "TEXT",
    "deletable": false,
    "editable": false
   },
   "source": [
    "### Question 1 (25 marks)\n",
    "\n",
    "You should be able to answer this question after you have studied Chapter 11.\n",
    "\n",
    "This question tests the following learning outcomes:\n",
    "\n",
    "- Apply general-purpose data structures and algorithmic techniques to efficiently solve computational problems.\n",
    "- Explain in a clear and succinct way how an algorithm or data structure works, and its assumptions, in order to communicate with peers.\n",
    "- Analyse the complexity of algorithms to support design choices.\n",
    "- Write readable, tested and documented Python functions and classes to implement algorithms and abstract data types.\n",
    "\n",
    "**The file `m269_util.py` should be in the folder with this TMA notebook.**\n",
    "\n",
    "In this question we consider a code-breaking game in which a player has to guess a hidden code.  \n",
    "\n",
    "The hidden code is an ordered sequence of 4 unique colours, chosen from 6 colours R, O, Y, G, B, V, which stand for Red, Orange, Yellow, Green, Blue and Violet.\n",
    "\n",
    "For each guess, the player is told how many colours are correct and how many are in the right position.\n",
    "\n",
    "For example, if the hidden code is OBYG and the player guesses RBOG, then three colours (O, B and G) are correct and two (B and G) are in the right position.\n",
    "\n",
    "There are 6 × 5 × 4 × 3 = 360 different possible codes. (6 choices for the first colour, 5 remaining choices for the second colour, 4 remaining choices for the third colour, 3 remaining choices for the fourth colour.)\n",
    "\n",
    "We can generate the search space of all 360 candidates as follows:\n",
    "\n"
   ]
  },
  {
   "cell_type": "code",
   "execution_count": 3,
   "metadata": {
    "TYPE": "CODEBLOCK",
    "deletable": false,
    "editable": false
   },
   "outputs": [],
   "source": [
    "from itertools import permutations\n",
    "candidates = []\n",
    "for permutation in permutations({'R','O','Y','G','B','V'}, 4):\n",
    "    candidates.append(permutation)\n",
    "candidates.sort()\n"
   ]
  },
  {
   "cell_type": "markdown",
   "metadata": {
    "TYPE": "TEXTBLOCK",
    "deletable": false,
    "editable": false
   },
   "source": [
    "where `permutations({'R', 'O', 'Y', 'G', 'B', 'V'}, 4)` returns all possible arrangements of 4 elements taken from the set {'R', 'O', 'Y', 'G', 'B', 'V'}. Note that candidates have been sorted to ensure consistent results.\n",
    "\n"
   ]
  },
  {
   "cell_type": "code",
   "execution_count": 4,
   "metadata": {
    "TYPE": "CODEBLOCK",
    "deletable": false,
    "editable": false
   },
   "outputs": [
    {
     "data": {
      "text/plain": [
       "360"
      ]
     },
     "execution_count": 4,
     "metadata": {},
     "output_type": "execute_result"
    }
   ],
   "source": [
    "len(candidates) # = 360\n"
   ]
  },
  {
   "cell_type": "markdown",
   "metadata": {
    "TYPE": "TEXTBLOCK",
    "deletable": false,
    "editable": false
   },
   "source": [
    "We can filter the search space of candidates by selecting all those that match the guess in that they have the same number of colours correct and the same number in the right position. For example, if our guess has three correct colours and two are in the right position, then the filter would return *all* possible combinations that have three correct colours with two in the right position.\n",
    "\n",
    "We will use some auxiliary functions.\n",
    "\n",
    "The auxiliary function *colours* finds the number of correct colours in *guess*.\n",
    "\n"
   ]
  },
  {
   "cell_type": "code",
   "execution_count": 5,
   "metadata": {
    "TYPE": "CODEBLOCK",
    "deletable": false,
    "editable": false
   },
   "outputs": [
    {
     "data": {
      "text/plain": [
       "3"
      ]
     },
     "execution_count": 5,
     "metadata": {},
     "output_type": "execute_result"
    }
   ],
   "source": [
    "def colours(guess:tuple, hidden:tuple) -> int:\n",
    "    \"\"\"\n",
    "    Preconditions:\n",
    "    - guess is a sequence of four unique colours chosen from R, O, Y, G, B, V;\n",
    "    - hidden is a sequence of four unique colours chosen from R, O, Y, G, B, V;\n",
    "    Postconditions: output is number of correct colours in guess\n",
    "    \"\"\"\n",
    "    correct = 0\n",
    "    for colour in ('R','O','Y','G','B','V'):\n",
    "        if colour in guess and colour in hidden:\n",
    "            correct = correct + 1\n",
    "    return correct\n",
    "colours(['R','B','O','G'],['R','B','V','O'])\n",
    "\n"
   ]
  },
  {
   "cell_type": "markdown",
   "metadata": {
    "TYPE": "TEXTBLOCK",
    "deletable": false,
    "editable": false
   },
   "source": [
    "The auxiliary function *positions* finds the number of colours in *guess* that are in the right position.\n",
    "\n"
   ]
  },
  {
   "cell_type": "code",
   "execution_count": 6,
   "metadata": {
    "TYPE": "CODEBLOCK",
    "deletable": false,
    "editable": false
   },
   "outputs": [
    {
     "data": {
      "text/plain": [
       "2"
      ]
     },
     "execution_count": 6,
     "metadata": {},
     "output_type": "execute_result"
    }
   ],
   "source": [
    "def positions(guess:tuple, hidden:tuple) -> int:\n",
    "    \"\"\"\n",
    "    Preconditions: guess is a sequence of four unique colours chosen from R, O, Y, G, B, V;\n",
    "                   hidden is a sequence of four unique colours chosen from R, O, Y, G, B, V;\n",
    "    Postconditions: output is number of colours in guess that are in the right position\n",
    "    \"\"\"\n",
    "    right = 0\n",
    "    for position in range(0,4):\n",
    "        if  guess[position] == hidden[position]:\n",
    "            right = right + 1\n",
    "    return right\n",
    "positions(('R','B','O','G'),('R','B','V','O'))\n",
    "\n"
   ]
  },
  {
   "cell_type": "markdown",
   "metadata": {
    "TYPE": "TEXT",
    "deletable": false,
    "editable": false
   },
   "source": [
    "#### Q1(a) (6 marks)\n",
    "What is the worst-case complexity of *colours*?\\\n",
    "What is the worst-case complexity of *positions*?\\\n",
    "Explain your answers.\n",
    "\n"
   ]
  },
  {
   "cell_type": "markdown",
   "metadata": {
    "MARKS": 6,
    "QUESTION": "1a",
    "TYPE": "ANSWER",
    "cellcol": "answercell",
    "deletable": false
   },
   "source": [
    "The worst-case complexity of the colours function is O(n), which means that it takes proportional time to the size of the input. This is because the function iterates through each colour in the guess and hidden tuples, and in the worst-case scenario, the length of both tuples is equal to the length of the alphabet, which is 6. Therefore, the time complexity is linear to the size of the input.\n",
    "T = n = O(n)\n",
    "\n",
    "The worst-case complexity of positions is O(n), where n is the length of the tuples. This is because the for loop will go through all the elements of the tuples, and the number of elements in the tuples is fixed, so the complexity does not depend on the size of the input.\n",
    "T = n = O(n)"
   ]
  },
  {
   "cell_type": "markdown",
   "metadata": {
    "TYPE": "TEXT",
    "deletable": false,
    "editable": false
   },
   "source": [
    "#### Q1(b) (13 marks)\n",
    "We can do a linear search to filter the search space as described above. The guess compared to the hidden code has *col* correct colours and *pos* right positions.  A candidate is a possible solution (that is, the possible hidden code) if the guess compared to the candidate also has *col* correct colours and *pos* right positions. We will use a *filter candidates* function with the following definition:\n",
    "\n",
    "**Function:** filter candidates\\\n",
    "**Inputs:** *guess*, a sequence; *col*, an integer;  *pos*, an integer, *candidates*, a sequence of sequences\\\n",
    "**Preconditions:** *guess* is a sequence of four unique colours chosen from R, O, Y, G, B, V;\\\n",
    "                   0 <= *col* <= 4;\\\n",
    "                   0 <= *pos* <= 4;\\\n",
    "          each item in *candidates* is a unique sequence of four unique colours chosen from R, O, Y, G, B, V\\\n",
    "**Outputs:** *filtered*, a sequence of sequences\\\n",
    "**Postconditions:** *filtered* is all items in *candidates* that have the same number of correct colours and right positions as *guess*, sorted ascendingly\n",
    "\n"
   ]
  },
  {
   "cell_type": "markdown",
   "metadata": {
    "TYPE": "TEXT",
    "deletable": false,
    "editable": false
   },
   "source": [
    "##### Q1(b)(i) (6 marks)\n",
    "Design an algorithm to implement the filter candidates function.  You can call the *colours* and *positions* auxiliary functions. Ensure your filtered sequence is sorted in ascending order.\n",
    "\n",
    "Note: Designing an algorithm is mentioned in Section 5.2 (where a numbered list is used). We expect you to use a similar format here.\n",
    "\n"
   ]
  },
  {
   "cell_type": "markdown",
   "metadata": {
    "MARKS": 6,
    "QUESTION": "1bi",
    "TYPE": "ANSWER",
    "cellcol": "answercell",
    "deletable": false
   },
   "source": [
    "\n",
    "1. let filtered be the empty set \n",
    "2. for each candidate from candidates:\n",
    "  A. let num_cols be 0\n",
    "  B. let num_pos be 0\n",
    "  C. for each i in the lentgh of guess:\n",
    "    a. if i in guess is found in candidate:\n",
    "      i. add 1 to num_cols\n",
    "      ii.  if i in guess = i in candidate:\n",
    "        1.  add 1 to num_pos\n",
    "  D. if num_cols = cols and num_pos = pos:\n",
    "    a.  append candidate to filtered set\n",
    "3. sort the filtered set ascendingly \n",
    "\n",
    "\n"
   ]
  },
  {
   "cell_type": "markdown",
   "metadata": {
    "TYPE": "TEXT",
    "deletable": false,
    "editable": false
   },
   "source": [
    "##### Q1(b)(ii) (7 marks)\n",
    "Complete the Python code to implement your *filter candidates* algorithm.\\\n",
    "Run the test code to test your implementation. Your tutor may run different tests.\n",
    "\n"
   ]
  },
  {
   "cell_type": "code",
   "execution_count": 7,
   "metadata": {
    "MARKS": 7,
    "QUESTION": "1bii",
    "TYPE": "ANSWER",
    "cellcol": "answercell",
    "deletable": false
   },
   "outputs": [
    {
     "name": "stdout",
     "output_type": "stream",
     "text": [
      "Tests finished.\n"
     ]
    }
   ],
   "source": [
    "%run -i m269_util\n",
    "def filter_candidates(guess:tuple, col:int, pos:int, candidates:list) -> list:\n",
    "    \"\"\"\n",
    "    Preconditions:\n",
    "    - guess is a sequence of four unique colours chosen from R, O,Y, G, B, V;\n",
    "    - 0 <= col <= 4;\n",
    "    - 0 <= pos <= 4;\n",
    "    - each item in candidates is a unique sequence of four unique colours chosen from R, O,Y, G, B, V\n",
    "    Postconditions: output is all items in candidates that have the same number of correct colours and right positions as guess\n",
    "    \"\"\"    \n",
    "    # Write your code here\n",
    "    filtered = []\n",
    "    for candidate in candidates:\n",
    "        num_cols = 0 # number of correct colours\n",
    "        num_pos = 0 # number of correct positions\n",
    "        for i in range(len(guess)):\n",
    "            # check if the colour is in the candidate\n",
    "            if guess[i] in candidate:\n",
    "                num_cols += 1\n",
    "                # check if the position is correct\n",
    "                if guess[i] == candidate[i]:\n",
    "                    num_pos += 1\n",
    "            \n",
    "        # check if the number of correct colours and positions is the same as guess\n",
    "        if num_cols == col and num_pos == pos:\n",
    "            filtered.append(candidate)\n",
    "    # sort the filtered list\n",
    "    filtered.sort()\n",
    "    return filtered  \n",
    "# Test code\n",
    "filter_tests = [\n",
    "# case, guess, col, pos, candidates, filtered space\n",
    "('random guess', ('R','B','O','G'), 3, 2, candidates,\n",
    "    [('B', 'V', 'O', 'G'), ('B', 'Y', 'O', 'G'), ('G', 'B', 'O', 'V'), ('G', 'B', 'O', 'Y'), ('O', 'B', 'V', 'G'), ('O', 'B', 'Y', 'G'), ('R', 'B', 'G', 'V'), ('R', 'B', 'G', 'Y'), ('R', 'B', 'V', 'O'), ('R', 'B', 'Y', 'O'), ('R', 'G', 'O', 'V'), ('R', 'G', 'O', 'Y'), ('R', 'O', 'V', 'G'), ('R', 'O', 'Y', 'G'), ('R', 'V', 'B', 'G'), ('R', 'V', 'O', 'B'), ('R', 'Y', 'B', 'G'), ('R', 'Y', 'O', 'B'), ('V', 'B', 'O', 'R'), ('V', 'B', 'R', 'G'), ('V', 'R', 'O', 'G'), ('Y', 'B', 'O', 'R'), ('Y', 'B', 'R', 'G'), ('Y', 'R', 'O', 'G')]),\n",
    "('close guess',('O','B','Y','R'), 3, 3, candidates,\n",
    "    [('G', 'B', 'Y', 'R'), ('O', 'B', 'G', 'R'), ('O', 'B', 'V', 'R'), ('O', 'B', 'Y', 'G'), ('O', 'B', 'Y', 'V'), ('O', 'G', 'Y', 'R'), ('O', 'V', 'Y', 'R'), ('V', 'B', 'Y', 'R')]),\n",
    "('correct guess',('O','B','Y','G'), 4, 4, candidates, [('O', 'B', 'Y', 'G')] )\n",
    "    ]\n",
    "\n",
    "test(filter_candidates, filter_tests)\n",
    "\n"
   ]
  },
  {
   "cell_type": "markdown",
   "metadata": {
    "TYPE": "TEXT",
    "deletable": false,
    "editable": false
   },
   "source": [
    "#### Q1(c) (6 marks)\n",
    "\n"
   ]
  },
  {
   "cell_type": "markdown",
   "metadata": {
    "TYPE": "TEXT",
    "deletable": false,
    "editable": false
   },
   "source": [
    "##### Q1(c)(i) (2 marks)\n",
    "Run the following code to measure the run-time of your implemented *filter_candidates* function on the search space *candidates*:\n",
    "\n"
   ]
  },
  {
   "cell_type": "code",
   "execution_count": 8,
   "metadata": {
    "TYPE": "CODEBLOCK",
    "deletable": false,
    "editable": false
   },
   "outputs": [
    {
     "name": "stdout",
     "output_type": "stream",
     "text": [
      "211 µs ± 5.67 µs per loop (mean ± std. dev. of 3 runs, 1000 loops each)\n"
     ]
    }
   ],
   "source": [
    "#Note: This will only work after you have programmed filter_candidates()\n",
    "my_guess = ('R', 'B', 'O', 'G')\n",
    "hidden = ('B', 'R', 'V', 'G')\n",
    "col = colours(my_guess, hidden) # result is 3\n",
    "pos = positions(my_guess, hidden) # result is 2\n",
    "%timeit -r 3 -n 1000 filter_candidates(my_guess, col, pos, candidates)\n"
   ]
  },
  {
   "cell_type": "markdown",
   "metadata": {
    "TYPE": "TEXTBLOCK",
    "deletable": false,
    "editable": false
   },
   "source": [
    "Run the following code to list the reduced search space:\n"
   ]
  },
  {
   "cell_type": "code",
   "execution_count": 9,
   "metadata": {
    "TYPE": "CODEBLOCK",
    "deletable": false,
    "editable": false
   },
   "outputs": [
    {
     "name": "stdout",
     "output_type": "stream",
     "text": [
      "[('B', 'G', 'O', 'V'), ('B', 'G', 'O', 'Y'), ('B', 'O', 'V', 'G'), ('B', 'O', 'Y', 'G'), ('B', 'R', 'O', 'V'), ('B', 'R', 'O', 'Y'), ('B', 'R', 'V', 'G'), ('B', 'R', 'Y', 'G'), ('B', 'V', 'O', 'R'), ('B', 'V', 'R', 'G'), ('B', 'Y', 'O', 'R'), ('B', 'Y', 'R', 'G'), ('G', 'B', 'R', 'V'), ('G', 'B', 'R', 'Y'), ('G', 'B', 'V', 'O'), ('G', 'B', 'V', 'R'), ('G', 'B', 'Y', 'O'), ('G', 'B', 'Y', 'R'), ('G', 'R', 'O', 'V'), ('G', 'R', 'O', 'Y'), ('G', 'V', 'O', 'B'), ('G', 'V', 'O', 'R'), ('G', 'Y', 'O', 'B'), ('G', 'Y', 'O', 'R'), ('O', 'B', 'G', 'V'), ('O', 'B', 'G', 'Y'), ('O', 'B', 'R', 'V'), ('O', 'B', 'R', 'Y'), ('O', 'B', 'V', 'R'), ('O', 'B', 'Y', 'R'), ('O', 'R', 'V', 'G'), ('O', 'R', 'Y', 'G'), ('O', 'V', 'B', 'G'), ('O', 'V', 'R', 'G'), ('O', 'Y', 'B', 'G'), ('O', 'Y', 'R', 'G'), ('R', 'G', 'B', 'V'), ('R', 'G', 'B', 'Y'), ('R', 'G', 'V', 'B'), ('R', 'G', 'V', 'O'), ('R', 'G', 'Y', 'B'), ('R', 'G', 'Y', 'O'), ('R', 'O', 'B', 'V'), ('R', 'O', 'B', 'Y'), ('R', 'O', 'G', 'V'), ('R', 'O', 'G', 'Y'), ('R', 'O', 'V', 'B'), ('R', 'O', 'Y', 'B'), ('R', 'V', 'B', 'O'), ('R', 'V', 'G', 'B'), ('R', 'V', 'G', 'O'), ('R', 'Y', 'B', 'O'), ('R', 'Y', 'G', 'B'), ('R', 'Y', 'G', 'O'), ('V', 'B', 'G', 'O'), ('V', 'B', 'G', 'R'), ('V', 'B', 'R', 'O'), ('V', 'G', 'O', 'B'), ('V', 'G', 'O', 'R'), ('V', 'O', 'B', 'G'), ('V', 'O', 'R', 'G'), ('V', 'R', 'B', 'G'), ('V', 'R', 'O', 'B'), ('Y', 'B', 'G', 'O'), ('Y', 'B', 'G', 'R'), ('Y', 'B', 'R', 'O'), ('Y', 'G', 'O', 'B'), ('Y', 'G', 'O', 'R'), ('Y', 'O', 'B', 'G'), ('Y', 'O', 'R', 'G'), ('Y', 'R', 'B', 'G'), ('Y', 'R', 'O', 'B')]\n",
      "Candidates remaining: 72\n"
     ]
    }
   ],
   "source": [
    "# Note: This will only work after you have programmed filter_candidates()\n",
    "reduced = filter_candidates(my_guess, colours(my_guess, hidden), positions(my_guess, hidden), candidates)\n",
    "print(reduced)\n",
    "print('Candidates remaining:', len(reduced))\n"
   ]
  },
  {
   "cell_type": "markdown",
   "metadata": {
    "TYPE": "TEXTBLOCK",
    "deletable": false,
    "editable": false
   },
   "source": [
    "We can choose a new guess from the reduced search space and repeat the process.\\\n",
    "Let us choose ('V', 'R', 'O', 'B').\\\n",
    "Run the following code to measure the run-time of *filter_candidates*  on the reduced search space *reduced*.\n",
    "\n"
   ]
  },
  {
   "cell_type": "code",
   "execution_count": 11,
   "metadata": {
    "TYPE": "CODEBLOCK",
    "deletable": false,
    "editable": false
   },
   "outputs": [
    {
     "name": "stdout",
     "output_type": "stream",
     "text": [
      "[('B', 'G', 'O', 'V'), ('B', 'R', 'V', 'G'), ('B', 'Y', 'O', 'R'), ('G', 'V', 'O', 'R'), ('O', 'R', 'V', 'G'), ('R', 'G', 'V', 'B'), ('R', 'O', 'Y', 'B'), ('R', 'V', 'G', 'B'), ('V', 'B', 'G', 'O'), ('V', 'B', 'G', 'R'), ('V', 'O', 'B', 'G'), ('V', 'O', 'R', 'G')]\n",
      "Candidates remaining: 12\n"
     ]
    }
   ],
   "source": [
    "new_guess = ('V', 'R', 'O', 'B')\n",
    "new_col = colours(new_guess, hidden) # result is 2\n",
    "new_pos = positions(new_guess, hidden) # result is 1\n",
    "new_reduced = filter_candidates(new_guess, new_col, new_pos, reduced)\n",
    "print(new_reduced)\n",
    "print(\"Candidates remaining:\", len(new_reduced))\n",
    "\n"
   ]
  },
  {
   "cell_type": "markdown",
   "metadata": {
    "TYPE": "TEXTBLOCK",
    "deletable": false,
    "editable": false
   },
   "source": [
    "In Section 2.7.2 you learned that for an algorithm with linear complexity run-time grows proportionally to the value or size of the inputs. For example, run-time doubles when input size double, and run-time decreases by 1/30 when input size decreases by 1/30.\n",
    "\n",
    "*new_reduced* is a fraction of the size of *candidates*.  Do you see a run-time on *new_reduced* of approximately the same fraction of the time observed on *candidates* or not? Do your run-times suggest *filter_candidates* has linear complexity or not? You may wish to time the last run of *filter_candidates* and include your timings in your answer.\n",
    "\n"
   ]
  },
  {
   "cell_type": "code",
   "execution_count": 12,
   "metadata": {
    "TYPE": "CODEBLOCK",
    "deletable": false,
    "editable": false
   },
   "outputs": [
    {
     "name": "stdout",
     "output_type": "stream",
     "text": [
      "7.82 µs ± 197 ns per loop (mean ± std. dev. of 3 runs, 1000 loops each)\n"
     ]
    }
   ],
   "source": [
    "%timeit -r 3 -n 1000 filter_candidates(new_guess, new_col, new_pos, new_reduced)\n",
    "\n"
   ]
  },
  {
   "cell_type": "markdown",
   "metadata": {
    "MARKS": 2,
    "QUESTION": "1ci",
    "TYPE": "ANSWER",
    "cellcol": "answercell",
    "deletable": false
   },
   "source": [
    "candidates = 227 µs ± 3.87 µs per loop = 3 * 1000 * 227 µs = 681,000 µs = 0.681 s\n",
    "new_reduced = 7.82 µs ± 197 ns per loop = 3 * 1000 * 7.82 µs = 23,460 µs = 0.02346 s\n",
    "run-time = 0.681/0.02346 = 29.02813299232737\n",
    "input size = 360/12 = 30\n",
    "\n",
    "by comparing the run-time and input size it suggest filter_candidates has linear complexity"
   ]
  },
  {
   "cell_type": "markdown",
   "metadata": {
    "TYPE": "TEXT",
    "deletable": false,
    "editable": false
   },
   "source": [
    "##### Q1(c)(ii) (4 marks)\n",
    "Analyse the worst-case complexity of your *filter_candidates* implementation.  Explain whether your run-times support your analysis.\n",
    "\n"
   ]
  },
  {
   "cell_type": "markdown",
   "metadata": {
    "MARKS": 4,
    "QUESTION": "1cii",
    "TYPE": "ANSWER",
    "cellcol": "answercell",
    "deletable": false
   },
   "source": [
    "The worst-case complexity of the filter_candidates algorithm is O(n^2), where n is the length of the candidates list. This is because there are two nested loops. The outer loop iterates through each item in the candidates list, which is an operation that takes O(n) time. The inner loop iterates through each colour in the item, which is also an operation that takes O(n) time. Therefore, the two nested loops combined take O(n^2) time.\n",
    "\n",
    "T = (n * n ) = O(n^2) \n",
    "\n"
   ]
  },
  {
   "cell_type": "markdown",
   "metadata": {
    "TYPE": "TEXT",
    "deletable": false,
    "editable": false
   },
   "source": [
    "### Question 2 (25 marks)\n",
    "\n",
    "You should be able to answer this question after you have studied Chapter 13.\n",
    "\n",
    "This question tests the following learning outcomes:\n",
    "\n",
    "- Apply general-purpose data structures and algorithmic techniques to efficiently solve computational problems.\n",
    "- Explain in a clear and succinct way how an algorithm or data structure works, and its assumptions, in order to communicate with peers.\n",
    "- Analyse the complexity of algorithms to support design choices.\n",
    "- Write readable, tested and documented Python functions and classes to implement algorithms and abstract data types.\n",
    "\n",
    "The population growth of a particular animal can be modelled using the following recurrence relation:\n",
    "\n",
    "$x_{n+1} = rx_{n}(1-x_{n})$\n",
    "\n",
    "The population is measured as a proportion of the maximum sustainable population, given the resources available. $x$ represents the proportion, and $n$ represents the year.\n",
    "\n",
    "For example, in **year 0** if the maximum possible population was 1,000 and the current population was 500, then $x_{0}$ would be 0.5.\n",
    "\n",
    "$r$ represents the rate at which the population grows.\n",
    "\n",
    "There are two restrictions:\n",
    "- $x_0$ must be between 0 and 1 (exclusive).\n",
    "- $r$ must be greater than 1.\n",
    "\n",
    "An example of the population growing over time could look like this, where the population at $x_{0}$ is 0.7 of its maximum potential size, and $r$ = 1.8. All numbers are rounded to 5 decimal places.\n",
    "\n",
    "| Year | Formula | Resultant population ($x_{n+1}$) |\n",
    "| :-- | :-- | :-- |\n",
    "| $x_{0}$ | n/a  | 0.7  |\n",
    "| $x_{1}$ | 1.8 × 0.7 × (1−0.7)  | 0.378 |\n",
    "| $x_{2}$ | 1.8 × 0.378 × (1-0.378)  | 0.42321  |\n",
    "| $x_{3}$ | 1.8 × 0.42321 × (1-0.42321) | 0.43939 |\n",
    "| $x_{4}$ | 1.8 × 0.43939 × (1-0.43939) | 0.44339 |\n",
    "| $x_{5}$ | 1.8 × 0.44339 × (1-0.44339) | 0.44423 |\n",
    "| $x_{6}$ | 1.8 × 0.44423 × (1-0.44423) | 0.4444 |\n",
    "| $x_{7}$ | 1.8 × 0.4444 × (1-0.4444)  | 0.44444 |\n",
    "| $x_{8}$ | 1.8 × 0.44444 × (1-0.44444) | 0.44444 |\n",
    "\n",
    "You can see from the table above that when rounded to 5 decimal places, $x$ will reach a limiting value where $x_{n} = x_{n+1}$ and will remain stable. This will remain true as long as $x_0$ is between 0 and 1 (exclusive), and $r$ is between 1.0 and 3.1 (exclusive).\n",
    "\n"
   ]
  },
  {
   "cell_type": "markdown",
   "metadata": {
    "TYPE": "TEXT",
    "deletable": false,
    "editable": false
   },
   "source": [
    "#### Q2(a) (7 marks)\n",
    "Write a problem definition for a recursive function *population* that will accept an input population proportion, *x_in*, and a growth rate, *r*, and returns the stable population proportion, *x_out*. You should include preconditions to ensure that a stable population is attainable.\n",
    "\n"
   ]
  },
  {
   "cell_type": "markdown",
   "metadata": {
    "MARKS": 7,
    "QUESTION": "2a",
    "TYPE": "ANSWER",
    "cellcol": "answercell",
    "deletable": false
   },
   "source": [
    "**Function:** population\\\n",
    "**Inputs:** \\ x_in, an integer; r, an integer \n",
    "**Preconditions:** \\ 0 <= x_out <= 1; 3.1 < r > 1\n",
    "**Output:** \\ x_out, an integer rounded to 5 decimal places\n",
    "**Postconditions:** x_out is found by iterating the equation x_out = r * x_in * (1 - x_in) until the value stabilizes\n",
    "\n"
   ]
  },
  {
   "cell_type": "markdown",
   "metadata": {
    "TYPE": "TEXT",
    "deletable": false,
    "editable": false
   },
   "source": [
    "#### Q2(b) (8 marks)\n",
    "Write a recursive function, *population*, that returns the base value of $x$, accurate to 5 decimal places, when given appropriate values for *r* and *x_in*. The test code below will test your code with *x_in=0.7* and *r=1.8*. Your tutor will test your code with other values.\n",
    "\n",
    "Your function should match your function definition from Q2(a).\n",
    "\n"
   ]
  },
  {
   "cell_type": "code",
   "execution_count": 4,
   "metadata": {
    "MARKS": 8,
    "QUESTION": "2b",
    "TYPE": "ANSWER",
    "cellcol": "answercell",
    "deletable": false
   },
   "outputs": [
    {
     "name": "stdout",
     "output_type": "stream",
     "text": [
      "Tests finished.\n"
     ]
    }
   ],
   "source": [
    "# Write your code here\n",
    "def population(x_in, r):\n",
    "    \n",
    "    i = 0\n",
    "    x_out = 0\n",
    "    l =[x_in]\n",
    "    while x_in <= 1 and x_in >= 0 and r > 1 and r < 3.1:\n",
    "        \n",
    "        x_out = r * x_in * (1 - x_in)\n",
    "        x_in = x_out\n",
    "        l.append(round(x_out, 5))\n",
    "        i += 1 \n",
    "        if l[i] == l[i - 1]:\n",
    "            break\n",
    "      \n",
    "    \n",
    "    return (round(x_out, 5))\n",
    "# Tests\n",
    "%run -i m269_util\n",
    "test_table = [[\"x=0.7, r=1.8\",0.7,1.8,0.44444]]\n",
    "test(population,test_table)\n",
    "\n"
   ]
  },
  {
   "cell_type": "markdown",
   "metadata": {
    "TYPE": "TEXT",
    "deletable": false,
    "editable": false
   },
   "source": [
    "#### Q2(c) (8 marks)\n",
    "At the start of Question 2, we mentioned that $r$ needs to be kept between 1.0 and 3.1 (exclusive) to maintain a stable population. When a period $r$ of 3.1 is used, the population proportion converges to two alternating values. Using *x = 0.7* and *r = 3.1*, for example, the resulting population proportions will alternate between 0.55802 and 0.76456 (your values may vary by 0.00001 depending on the method used). As the population alternates between two values, we call this a period-2 ($2^{1}$) solution. At higher values of $r$, we get a period-4 ($2^{2}$) solution (where the population converges to a sequence of four values repeated), then a period-8 ($2^{3}$) solution, and so on. This is known as the periodicity. When $r$ reaches 3.7, there is no periodic behaviour: it is described as chaotic.\n",
    "\n",
    "Outline in English how you could use a divide-and-conquer technique to identify the lowest value of $r$ (to 4 decimal places) that leads to a periodicity of $2^{y}$ where $y$ is defined by the user. An outline in English should *not* be program code or pseudo-code; see Section 6.4.1 for further guidance on outlining algorithms in English. Not using an English outline will lead to marks being deducted.\n",
    "\n",
    "You may assume that:\n",
    "- You have a function, `calculate_periodicity()`, which is passed a value *r* and returns the periodicity.\n",
    "- Solutions of increasing periods occur in increasing order as *r* increases between 3.1 and 3.7, so at some value of *r* the periodicity will stop returning $2^{n}$ and will start returning $2^{n+1}$. At this point there will be no return to $2^{n}$.\n",
    "\n",
    "Your solution should return -1 if the given periodicity is not identified within the restrictions given.\n",
    "\n"
   ]
  },
  {
   "cell_type": "markdown",
   "metadata": {
    "MARKS": 8,
    "QUESTION": "2c",
    "TYPE": "ANSWER",
    "cellcol": "answercell",
    "deletable": false
   },
   "source": [
    "\n",
    "First, the algorithm divide the range of possible values of r (between 1.0 to 3.7) into two halves, and test whether a period-2 ($2^{1}$)  solution occurs in each half.\n",
    "\n",
    "If a period-2 solution is found in the lower or/and the higher half, it divide it again and test for the period-2 solution in each quarter until the range is narrow enough to identify the lowest value of r that leads to a period-2 solution.\n",
    "\n",
    "\n",
    "Once the lowest value of r is identified,it increases the power of 2 by 1 and divide the range of possible values of r into two halves and test for a period-2 ($2^{2}$) solution.\n",
    "\n",
    "If a period-2 power of 2 solution is found in the lower or/and the higher half, divide it again and test for the period-2 power of 2 solution in each quarter until the range is narrow enough to identify the lowest value of r that leads to a period-2 ($2^{2}$) solution.\n",
    "\n",
    "\n",
    "Once the lowest value of r is identified, increase the power of 2 by 1 and continue previous until the user-defined periodicity is achieved."
   ]
  },
  {
   "cell_type": "markdown",
   "metadata": {
    "TYPE": "TEXT",
    "deletable": false,
    "editable": false
   },
   "source": [
    "#### Q2(d) (2 marks)\n",
    "The divide-and-conquer technique relies on the fact that periodicity increases along with *r*, and once a particular periodicity has been reached we know a lower periodicity will not be seen again. For example, once a period-8 solution is reached, we know there will be no more period-4 solutions.\n",
    "\n",
    "Explain how the solution you described in part (c) would need to be changed if this was *not* the case; you do *not* need to re-write your solution, just describe the changes.\n",
    "\n"
   ]
  },
  {
   "cell_type": "markdown",
   "metadata": {
    "MARKS": 2,
    "QUESTION": "2d",
    "TYPE": "ANSWER",
    "cellcol": "answercell",
    "deletable": false
   },
   "source": [
    "\n",
    "If periodicity does not increase along with r, then the divide-and-conquer technique may not be successful. In this case, the solution would need to be modified. Instead of dividing the range of possible values of r into two halves, the range would need to be divided into smaller and smaller intervals. Then, each interval would need to be tested for the presence of the desired periodicity. If the periodicity is not found in the interval, then the interval would be discarded and the process would need to be repeated until the desired periodicity is found.\n",
    "\n"
   ]
  },
  {
   "cell_type": "markdown",
   "metadata": {
    "TYPE": "TEXT",
    "deletable": false,
    "editable": false
   },
   "source": [
    "## PART 2\n"
   ]
  },
  {
   "cell_type": "markdown",
   "metadata": {
    "TYPE": "TEXT",
    "deletable": false,
    "editable": false
   },
   "source": [
    "### Question 3 (12 marks)\n",
    "\n",
    "You should be able to answer this question after you have studied Chapters 16, 17 and 18.\n",
    "\n",
    "This question tests the following learning outcomes:\n",
    "-\tApply general-purpose data structures and algorithmic techniques to efficiently solve computational problems.\n",
    "-\tExplain in a clear and succinct way how an algorithm or data structure works, and its assumptions, in order to communicate with peers.\n",
    "-\tAnalyse the complexity of algorithms to support design choices.\n",
    "-\tWrite readable, tested and documented Python functions and classes to implement algorithms and abstract data types.\n",
    "\n",
    "**The files `m269_tree.py`, `m269_util.py`, `Q3_BST.py` and `example_trail.png` should be in the folder with this TMA notebook.**\n",
    "\n"
   ]
  },
  {
   "cell_type": "markdown",
   "metadata": {
    "TYPE": "TEXT",
    "deletable": false,
    "editable": false
   },
   "source": [
    "#### Q3(a) (4 marks)\n",
    "A fictional forest trail starts from a given point START.  At the start or at further named points the path can fork into a left path and a right path.  At any point there can be a left path only or a right path only.\\\n",
    "The trail can be represented by a rooted binary tree, such as:\n",
    "\n",
    "![example trail](example_trail.png)\n",
    "\n",
    "For this example, the trail ends at the leaves of the tree, that is, D, E, F and G.\n",
    "\n",
    "Given a trail represented by a rooted tree, *trail*, write a recursive function called *ends* that calculates the number of points at which a trail ends. For the example above, this would return 4.\n",
    "\n",
    "Test your function by running the test code given below.  If any tests fail, then debug your function, and run the test code again.  You can repeat this iterative process as many times as you want.  If there are any tests that fail and you are unable to identify the problem, you may add explanatory comments below the test code.\n",
    "\n",
    "Your tutor may run additional tests.\n",
    "\n",
    "The file `m269_util.py` contains the code for the test function.\n",
    "\n"
   ]
  },
  {
   "cell_type": "code",
   "execution_count": 2,
   "metadata": {
    "MARKS": 4,
    "QUESTION": "3a",
    "TYPE": "ANSWER",
    "cellcol": "answercell",
    "deletable": false
   },
   "outputs": [
    {
     "name": "stdout",
     "output_type": "stream",
     "text": [
      "Tests finished.\n"
     ]
    }
   ],
   "source": [
    "%run -i m269_tree\n",
    "%run -i m269_util\n",
    "# Compute the number of trail ends in trail\n",
    "\n",
    "#This function takes a tree as an argument and \n",
    "#returns the number of leaf nodes which the trail ends  \n",
    "def ends(trail: Tree):\n",
    "    #if the tree is empty, return 0\n",
    "    if is_empty(trail):\n",
    "        return 0\n",
    "    #if both subtrees empty, return 1\n",
    "    elif is_leaf(trail):                 \n",
    "        return 1\n",
    "    else:\n",
    "        # start he function again for both sides\n",
    "        return ends(trail.left) + ends(trail.right)\n",
    "# Test code\n",
    "EMPTY = Tree()\n",
    "F = join('F',EMPTY,EMPTY)\n",
    "G = join('G',EMPTY,EMPTY)\n",
    "C = join('C',F,G)\n",
    "D = join('D', EMPTY,EMPTY)\n",
    "A = join('A',C,D)\n",
    "E = join('E',EMPTY,EMPTY)\n",
    "B = join('B',E,EMPTY)\n",
    "START = join('START',A,B)\n",
    "\n",
    "trail_tests = [\n",
    "# case,       trail,      number of trail ends\n",
    "('empty tree', EMPTY, 0),\n",
    "('no subtrees, already trail end', F, 1),\n",
    "('one subtree, trail end', B, 1),\n",
    "('two subtrees, neither subtree is a trail end', START, 4),\n",
    "('two subtrees, one subtree is a trail end', A, 3),\n",
    "('two subtrees, both subtrees are trail ends', C, 2)\n",
    "]\n",
    "test(ends, trail_tests)\n",
    "# Add any explanatory comments here\n",
    "\n",
    "\n"
   ]
  },
  {
   "cell_type": "markdown",
   "metadata": {
    "TYPE": "TEXT",
    "deletable": false,
    "editable": false
   },
   "source": [
    "#### Q3(b) (8 marks)\n",
    "Here is a definition of a function *is BST* that takes a binary tree and decides if it is a binary search tree.\n",
    "\n",
    "**Function:** is BST \\\n",
    "**Inputs:** *t*,  a binary tree \\\n",
    "**Preconditions:** items in the *t* must be (pairwise) comparable \\\n",
    "**Output:**  *result*, a Boolean \\\n",
    "**Postconditions:** *result* is true if *t* is a binary search tree, or if for every node in\n",
    " *t* the left child is either empty or less than the node's root and the right child is either empty or greater than the node's root - and false otherwise\n",
    "\n",
    "The recursive function `is_BST()` provided in the file `Q3_BST.py` implements the `is BST` function.\n",
    "\n",
    "Write code to construct test trees and complete the test table with six different tests to test this implementation.   \n",
    "Add comments to the test table to indicate any edge cases.\n",
    "\n",
    "Running the test code should produce 'Tests finished'.  \n",
    "If any tests fail, try to identify why they failed and add any explanatory comments below the test code.\n",
    "\n"
   ]
  },
  {
   "cell_type": "code",
   "execution_count": 7,
   "metadata": {
    "MARKS": 8,
    "QUESTION": "3b",
    "TYPE": "ANSWER",
    "cellcol": "answercell",
    "deletable": false
   },
   "outputs": [
    {
     "name": "stdout",
     "output_type": "stream",
     "text": [
      "Tests finished.\n"
     ]
    }
   ],
   "source": [
    "%run -i m269_tree\n",
    "%run -i m269_util\n",
    "%run -i Q3_BST\n",
    "\n",
    "# Write your code to construct test trees here\n",
    "# t1\n",
    "\n",
    "\n",
    "EMPTY = Tree()\n",
    "d = join(1,EMPTY ,EMPTY)\n",
    "e = join(3,EMPTY ,EMPTY)\n",
    "f = join(4,EMPTY,EMPTY)\n",
    "g = join(7,EMPTY,EMPTY)\n",
    "c = join(6,f,g)\n",
    "b = join(2,d,e)\n",
    "t1 = join(5,b,c)\n",
    "\n",
    "\n",
    "EMPTY = Tree()\n",
    "d = join(2,EMPTY ,EMPTY)\n",
    "e = join(7,EMPTY ,EMPTY)\n",
    "f = join(1,EMPTY,EMPTY)\n",
    "g = join(6,EMPTY,EMPTY)\n",
    "c = join(5,f,g)\n",
    "b = join(3,d,e)\n",
    "t2 = join(4,b,c)\n",
    "\n",
    "# t3\n",
    "\n",
    "EMPTY = Tree()\n",
    "d = join(1,EMPTY ,EMPTY)\n",
    "e = join(2,EMPTY ,EMPTY)\n",
    "f = join(4,EMPTY,EMPTY)\n",
    "g = join(7,EMPTY,EMPTY)\n",
    "c = join(6,f,g)\n",
    "b = join(3,d,e)\n",
    "t3 = join(5,b,c)\n",
    "\n",
    "# t4\n",
    "\n",
    "EMPTY = Tree()\n",
    "d = join(1,EMPTY ,EMPTY)\n",
    "e = join(3,EMPTY ,EMPTY)\n",
    "f = join(4,EMPTY,EMPTY)\n",
    "g = join(7,EMPTY,EMPTY)\n",
    "c = join(5,f,g)\n",
    "b = join(2,d,e)\n",
    "t4 = join(6,b,c)\n",
    "\n",
    "# t5\n",
    "\n",
    "EMPTY = Tree()\n",
    "d = join(1,EMPTY ,EMPTY)\n",
    "e = join(3,EMPTY ,EMPTY)\n",
    "f = join(4,EMPTY,EMPTY)\n",
    "g = join(7,EMPTY,EMPTY)\n",
    "c = join(6,f,g)\n",
    "b = join(5,d,e)\n",
    "t5 = join(2,b,c)\n",
    "\n",
    "# t6\n",
    "\n",
    "EMPTY = Tree()\n",
    "d = join(1,EMPTY ,EMPTY)\n",
    "e = join(3,EMPTY ,EMPTY)\n",
    "f = join(6,EMPTY,EMPTY)\n",
    "g = join(7,EMPTY,EMPTY)\n",
    "c = join(5,f,g)\n",
    "b = join(2,d,e)\n",
    "t6 = join(4,b,c)\n",
    "\n",
    "\n",
    "# Complete the test table\n",
    "BST_tests = [\n",
    "# case,                            t,  result\n",
    "# Add your tests here, uncomment the tests when you are ready to use them\n",
    "('All nodes meet the BST criteria',t1 ,True ),\n",
    "('All nodes meet the BST criteria',t2 ,True ),\n",
    "('Right child not greater than parent',t3 ,False ),\n",
    "('Root is greater than right child',t4 ,False ),\n",
    "('Root is less than left child',t5 ,False ),\n",
    "('Left child not less than parent',t6 ,False )\n",
    "]\n",
    "\n",
    "test(is_BST, BST_tests)\n",
    "\n",
    "# Add any explanatory comments here\n",
    "\n",
    "\n"
   ]
  },
  {
   "cell_type": "markdown",
   "metadata": {
    "TYPE": "TEXT",
    "deletable": false,
    "editable": false
   },
   "source": [
    "### Question 4 (38 marks)\n",
    "\n",
    "You should be able to answer this question after you have studied Chapters 16, 17 and 18.\n",
    "\n",
    "This question tests the following learning outcomes:\n",
    "-\tApply general-purpose data structures and algorithmic techniques to efficiently solve computational problems.\n",
    "-\tExplain in a clear and succinct way how an algorithm or data structure works, and its assumptions, in order to communicate with peers.\n",
    "-\tAnalyse the complexity of algorithms to support design choices.\n",
    "-\tWrite readable, tested and documented Python functions and classes to implement algorithms and abstract data types.\n",
    "\n",
    "**The files `m269_digraph.py`, `m269_ungraph.py` and `Q4_warehouse.py` should be in the folder with this TMA notebook.**\n",
    "\n",
    "A warehouse, similar to Ocado’s algorithm-controlled warehouse that you met in [The Secret Rules of Modern Living: Algorithms](https://learn2.open.ac.uk/mod/oucontent/view.php?id=2023075) Part 3, has a despatch area and a vast storage area divided into zones.  Requested items are brought to despatch from the storage area by an automatic picking system.  An automated crate travels along tracks from despatch to the appropriate storage area zones, and back to despatch.  Tracks are in pairs that allow the crate to travel in either direction.\n",
    "\n",
    "The crate may need to pass through other zones to get to and from the zones where the requested items are.\n",
    "\n",
    "The warehouse can be represented by a weighted digraph.  Nodes represent the despatch and storage zones.  Weighted edges represent tracks between the despatch and storage zones, and between zones.  A weight represents the time (in seconds) that it takes to travel between the two zones joined by the edge.\n",
    "\n",
    "Run the code below to draw an instance of a weighted digraph that represents an example warehouse.\n",
    "\n"
   ]
  },
  {
   "cell_type": "code",
   "execution_count": 2,
   "metadata": {
    "TYPE": "CODEBLOCK",
    "deletable": false,
    "editable": false
   },
   "outputs": [
    {
     "data": {
      "image/png": "[encoded data removed]",
      "text/plain": [
       "<Figure size 432x288 with 1 Axes>"
      ]
     },
     "metadata": {},
     "output_type": "display_data"
    }
   ],
   "source": [
    "%run -i m269_digraph\n",
    "%run -i m269_ungraph\n",
    "from matplotlib.pyplot import *\n",
    "%run -i Q4_warehouse\n",
    "\n"
   ]
  },
  {
   "cell_type": "markdown",
   "metadata": {
    "TYPE": "TEXT",
    "deletable": false,
    "editable": false
   },
   "source": [
    "#### Q4(a) (25 marks)\n",
    "In this part we explore the problem of finding the quickest route from one zone to another; that is, finding a shortest path on the graph.\n",
    "\n"
   ]
  },
  {
   "cell_type": "markdown",
   "metadata": {
    "TYPE": "TEXT",
    "deletable": false,
    "editable": false
   },
   "source": [
    "##### Q4(a)(i) (1 mark)\n",
    "State why the graph representing the warehouse should be connected.\n",
    "\n"
   ]
  },
  {
   "cell_type": "markdown",
   "metadata": {
    "MARKS": 1,
    "QUESTION": "4ai",
    "TYPE": "ANSWER",
    "cellcol": "answercell",
    "deletable": false
   },
   "source": [
    "The graph representing the warehouse should be connected because there is a path from any zone to any other zone.\n",
    "\n"
   ]
  },
  {
   "cell_type": "markdown",
   "metadata": {
    "TYPE": "TEXT",
    "deletable": false,
    "editable": false
   },
   "source": [
    "##### Q4(a)(ii) (1 mark)\n",
    "State why the problem  of finding the shortest path from one zone to another is not the travelling salesman problem (TSP).\n",
    "\n"
   ]
  },
  {
   "cell_type": "markdown",
   "metadata": {
    "MARKS": 1,
    "QUESTION": "4aii",
    "TYPE": "ANSWER",
    "cellcol": "answercell",
    "deletable": false
   },
   "source": [
    "TSP requires to find the shortest path within all the vertices in the graph. to find the shortest path from one zone to another doesn't require to go through all the zones. Rather, only the zones with the shortest edges from point A to point B to create a path\n",
    "\n"
   ]
  },
  {
   "cell_type": "markdown",
   "metadata": {
    "TYPE": "TEXT",
    "deletable": false,
    "editable": false
   },
   "source": [
    "##### Q4(a)(iii) (1 Mark)\n",
    "State why the problem of finding the shortest path from one zone to another is not about finding a minimum spanning tree of the graph.\n",
    "\n"
   ]
  },
  {
   "cell_type": "markdown",
   "metadata": {
    "MARKS": 1,
    "QUESTION": "4aiii",
    "TYPE": "ANSWER",
    "cellcol": "answercell",
    "deletable": false
   },
   "source": [
    "A minimum spanning tree of a graph is a subset of edges that connect all of the vertices within a graph with the minimum total weight. It is a tree because it contains no cycles, and it is a spanning tree because it includes all of the vertices of the graph. Therefore, finding the shortest path from one zone to another does not require to find the minimum connections in the whole warehouse\n",
    "\n"
   ]
  },
  {
   "cell_type": "markdown",
   "metadata": {
    "TYPE": "TEXT",
    "deletable": false,
    "editable": false
   },
   "source": [
    "##### Q4(a)(iv) (2 Marks)\n",
    "Use Dijsktra's algorithm to compute a shortest path from despatch to each zone. Draw the resulting tree.  \n",
    "\n",
    "The contents of `Q4_warehouse.py` are reproduced below for your reference.\n",
    "\n"
   ]
  },
  {
   "cell_type": "code",
   "execution_count": 3,
   "metadata": {
    "TYPE": "CODEBLOCK",
    "deletable": false,
    "editable": false
   },
   "outputs": [
    {
     "data": {
      "image/png": "[encoded data removed]",
      "text/plain": [
       "<Figure size 432x288 with 1 Axes>"
      ]
     },
     "metadata": {},
     "output_type": "display_data"
    }
   ],
   "source": [
    "warehouse = WeightedDiGraph()\n",
    "warehouse.add_node('despatch')\n",
    "warehouse.add_node('A')\n",
    "warehouse.add_node('D')\n",
    "warehouse.add_node('P')\n",
    "warehouse.add_node('S')\n",
    "warehouse.add_node('U')\n",
    "warehouse.add_node('Y')\n",
    "warehouse.add_node('Z')\n",
    "\n",
    "warehouse.add_edge('despatch','U',30)\n",
    "warehouse.add_edge('U','despatch',30)\n",
    "warehouse.add_edge('despatch','A',10)\n",
    "warehouse.add_edge('A','despatch',10)\n",
    "warehouse.add_edge('despatch','D',5)\n",
    "warehouse.add_edge('D','despatch',5)\n",
    "warehouse.add_edge('despatch','Z',16)\n",
    "warehouse.add_edge('Z','despatch',16)\n",
    "warehouse.add_edge('A','U',15)\n",
    "warehouse.add_edge('U','A',15)\n",
    "warehouse.add_edge('A','P',10)\n",
    "warehouse.add_edge('P','A',10)\n",
    "warehouse.add_edge('P','S',12)\n",
    "warehouse.add_edge('S','P',12)\n",
    "warehouse.add_edge('D','Z',8)\n",
    "warehouse.add_edge('Z','D',8)\n",
    "warehouse.add_edge('P','D',15)\n",
    "warehouse.add_edge('D','P',15)\n",
    "warehouse.add_edge('P','Y',8)\n",
    "warehouse.add_edge('Y','P',8)\n",
    "warehouse.add_edge('Y','S',12)\n",
    "warehouse.add_edge('S','Y',12)\n",
    "warehouse.add_edge('Y','Z',15)\n",
    "warehouse.add_edge('Z','Y',15)\n",
    "\n",
    "warehouse.draw()\n",
    "\n"
   ]
  },
  {
   "cell_type": "markdown",
   "metadata": {
    "TYPE": "TEXTBLOCK",
    "deletable": false,
    "editable": false
   },
   "source": [
    "Don't worry about the layout of your tree.\n",
    "\n"
   ]
  },
  {
   "cell_type": "code",
   "execution_count": 5,
   "metadata": {
    "MARKS": 2,
    "QUESTION": "4aiv",
    "TYPE": "ANSWER",
    "cellcol": "answercell",
    "deletable": false
   },
   "outputs": [
    {
     "data": {
      "image/png": "[encoded data removed]",
      "text/plain": [
       "<Figure size 432x288 with 1 Axes>"
      ]
     },
     "metadata": {},
     "output_type": "display_data"
    }
   ],
   "source": [
    "dijkstra(warehouse, 'despatch').draw()"
   ]
  },
  {
   "cell_type": "markdown",
   "metadata": {
    "TYPE": "TEXT",
    "deletable": false,
    "editable": false
   },
   "source": [
    "##### Q4(a)(v) (10 marks)\n",
    "Here is a definition of a function that, given a connected weighted digraph, finds the shortest path from a given start node to a given end node.\n",
    "\n",
    "**Function:** shortest path between nodes \\\n",
    "**Inputs:** *warehouse*, a weighted digraph; *start*, a node; *end*, a node \\\n",
    "**Preconditions:** *start* and *end* are different nodes in *warehouse*; *warehouse* is connected \\\n",
    "**Output:** *path*, a sequence of nodes \\\n",
    "**Postconditions:** *path* is the shortest path from *start* to *end* in *warehouse*\n",
    "\n",
    "Here is a description of an algorithm that solves the shortest path between nodes problem.\n",
    "\n",
    "1.\tUse Dijkstra's algorithm to construct a tree of shortest paths from *start* to every other node of *warehouse*.\n",
    "2.\tLet *path* be the sequence *[end]*.\n",
    "3.\tIn the tree, starting with *end* visit the in-neighbour of the node, then the in-neighbour of that node, and so on, until getting to *start*, appending each node to *path*.\n",
    "4.\tReverse the sequence *path* using `reverse_in_place()` *as defined in Exercise 4.7.7 answer*. (Note: The code for `reverse_in_place()` is reproduced in Q4(a)(vi).)\n",
    "\n",
    "Analyse the worst-case complexity of this algorithm for a connected weighted digraph  *warehouse* with *n* nodes and *e* edges, explaining the worst-case complexity of each step as well as the overall complexity. You should assume that the graph is represented as adjacency sets of out-neighbours.\n",
    "\n"
   ]
  },
  {
   "cell_type": "markdown",
   "metadata": {
    "MARKS": 10,
    "QUESTION": "4av",
    "TYPE": "ANSWER",
    "cellcol": "answercell",
    "deletable": false
   },
   "source": [
    "First, Dijkstra's algorithm has a worst-case time complexity of O(n² + e)\n",
    "Then, appending each node to path has a worst-case time complexity of O(n)\n",
    "finally, reversing the sequence path has a worst-case time complexity of O(n)\n",
    "Therfore, the overall complexity is O(n² + e).\n",
    "\n"
   ]
  },
  {
   "cell_type": "markdown",
   "metadata": {
    "TYPE": "TEXT",
    "deletable": false,
    "editable": false
   },
   "source": [
    "##### Q4(a)(vi) (10 Marks)\n",
    "Implement this *shortest path between nodes* algorithm as a function in Python.  Include a docstring.  We have provided the `reverse_in_place()` code as given in the answer to Exercise 4.7.7.  Make sure that your function inputs are in the order *warehouse*, *start*, *end*.\n",
    "\n",
    "Test your implementation by running the test code given below.  If any tests fail, then debug your implementation and run the test code again.  You can repeat this iterative process as many times as you want.  If there are any tests that fail and you are unable to identify the problem, you may add explanatory comments below the test code.\n",
    "\n"
   ]
  },
  {
   "cell_type": "code",
   "execution_count": 5,
   "metadata": {
    "MARKS": 10,
    "QUESTION": "4avi",
    "TYPE": "ANSWER",
    "cellcol": "answercell",
    "deletable": false
   },
   "outputs": [
    {
     "name": "stdout",
     "output_type": "stream",
     "text": [
      "Tests finished.\n"
     ]
    }
   ],
   "source": [
    "%run -i m269_util\n",
    "# The reverse_in_place code appears in Exercise 4.7.7 answer\n",
    "def reverse_in_place(values: list) -> None:\n",
    "    \"\"\"Reverse the order of the values.\n",
    "\n",
    "    Postconditions: post-values = [pre-values[len(pre-values) - 1],\n",
    "        ..., pre-values[1], pre-values[0]]\n",
    "    \"\"\"\n",
    "    left_index = 0\n",
    "    right_index = len(values) - 1\n",
    "    while left_index < right_index:\n",
    "        left_item = values[left_index]\n",
    "        values[left_index] = values[right_index]\n",
    "        values[right_index] = left_item\n",
    "        left_index = left_index + 1\n",
    "        right_index = right_index - 1\n",
    "\n",
    "def shortest_path(graph, start, end):\n",
    "    \"\"\"Return a shortest path from start to end node.\n",
    "    \n",
    "    Preconditions:\n",
    "    - start and end are different nodes in warehouse\n",
    "    - warehouse is connected\n",
    "    \"\"\"\n",
    "    tree = dijkstra(graph, start)\n",
    "    path = [end]\n",
    "    temp = []\n",
    "    while len(path) > 0:\n",
    "\n",
    "        for neighbour in tree.in_neighbours(end):\n",
    "        \n",
    "            path.append(neighbour)\n",
    "            end = neighbour\n",
    "        if end == start:\n",
    "            break\n",
    "    reverse_in_place(path)\n",
    "    return path\n",
    "\n",
    "# Test code\n",
    "shortest_path_tests = [\n",
    "# case,              warehouse, start, end,  shortest path\n",
    "('neighbouring zones', warehouse, 'S', 'Y', ['S','Y']),\n",
    "('zone neighbouring despatch', warehouse, 'despatch', 'D', ['despatch','D']),\n",
    "('zone neighbouring despatch shortest path not direct', warehouse, 'despatch','Z', ['despatch','D','Z']),\n",
    "('distant zones', warehouse, 'U', 'D', ['U','A','despatch','D']),\n",
    "('distant zones opposite direction', warehouse, 'D', 'U', ['D','despatch','A','U']),\n",
    "('two different shortest paths, choice depends on dijkstra', warehouse, 'Z', 'P', ['Z','D','P']),\n",
    "]\n",
    "test(shortest_path, shortest_path_tests)\n",
    "# Add any explanatory comments here\n",
    "\n",
    "\n"
   ]
  },
  {
   "cell_type": "markdown",
   "metadata": {
    "TYPE": "TEXT",
    "deletable": false,
    "editable": false
   },
   "source": [
    "#### Q4(b) (13 marks)\n",
    "You may wish to draw the warehouse graph again here for easy reference by running the following code:\n",
    "\n"
   ]
  },
  {
   "cell_type": "code",
   "execution_count": 6,
   "metadata": {
    "TYPE": "CODEBLOCK",
    "deletable": false,
    "editable": false
   },
   "outputs": [
    {
     "data": {
      "image/png": "[encoded data removed]",
      "text/plain": [
       "<Figure size 432x288 with 1 Axes>"
      ]
     },
     "metadata": {},
     "output_type": "display_data"
    }
   ],
   "source": [
    "warehouse.draw()\n",
    "\n"
   ]
  },
  {
   "cell_type": "markdown",
   "metadata": {
    "TYPE": "TEXTBLOCK",
    "deletable": false,
    "editable": false
   },
   "source": [
    "In this part we explore the problem of taking the quickest route from despatch to visit a given set of zones in any order (to fetch the requested items) before returning to despatch.\n",
    "\n",
    "For example, the quickest route from despatch to visit D and Z in any order before returning to despatch is:  despatch, D, Z, D, despatch.\n",
    "\n"
   ]
  },
  {
   "cell_type": "markdown",
   "metadata": {
    "TYPE": "TEXT",
    "deletable": false,
    "editable": false
   },
   "source": [
    "##### Q4(b)(i) (1 mark)\n",
    "State why *this* problem is not the travelling salesman problem (TSP).\n",
    "\n"
   ]
  },
  {
   "cell_type": "markdown",
   "metadata": {
    "MARKS": 1,
    "QUESTION": "4bi",
    "TYPE": "ANSWER",
    "cellcol": "answercell",
    "deletable": false
   },
   "source": [
    "TSP requires to find the shortest path within all the vertices for the hole graph without prioritize a specific route. this problem requires the quickest route for a specific route which can be contradict with the TSP.\n"
   ]
  },
  {
   "cell_type": "markdown",
   "metadata": {
    "TYPE": "TEXT",
    "deletable": false,
    "editable": false
   },
   "source": [
    "##### Q4(b)(ii) (1 Mark)\n",
    "We could use brute force to generate all possible candidate routes and choose the quickest one.  State why this is not a practical option for routes through a large number of zones.\n",
    "\n"
   ]
  },
  {
   "cell_type": "markdown",
   "metadata": {
    "MARKS": 1,
    "QUESTION": "4bii",
    "TYPE": "ANSWER",
    "cellcol": "answercell",
    "deletable": false
   },
   "source": [
    "Brute force is not a practical option for routes through a large number of zones because it would involve testing every possible combination of routes and calculating the total time for each. This would take a very long time and would be too computationally expensive. A more efficient approach is to use the Dijkstra's algorithm, which can quickly find the shortest path through a graph.\n",
    "\n"
   ]
  },
  {
   "cell_type": "markdown",
   "metadata": {
    "TYPE": "TEXT",
    "deletable": false,
    "editable": false
   },
   "source": [
    "##### Q4(b)(iii) (7 Marks)\n",
    "We can approach the problem in a greedy way by visiting the zones in the order they are listed.\n",
    "\n",
    "Here is a greedy algorithm that visits the zones in the order in which they are listed, taking the shortest path to the next zone in the list each time:\n",
    "\n",
    "1.\tlet *listed zones* be the list of at least two zones to visit\n",
    "2.\tvisit the first zone in *listed zones* by the shortest path from despatch\n",
    "3.\tfor each zone in *listed zones* visit the next zone in the list by the shortest path from the previous zone in the list\n",
    "4.\treturn to despatch by the shortest path from the last zone in *listed zones*\n",
    "\n",
    "Find a counter-example list of three zones for the example warehouse graph to show that this greedy algorithm is not correct.  Explain how you arrived at your counter-example.\n",
    "\n",
    "Give the route the greedy algorithm will take, explaining why it's that route. Give the quickest route you can find for your counter-example.\n",
    "\n",
    "Calculate, by looking at the graph, how many seconds the route taken by the greedy algorithm will take, and how many seconds your quickest route will take.\n",
    "\n"
   ]
  },
  {
   "cell_type": "markdown",
   "metadata": {
    "MARKS": 7,
    "QUESTION": "4biii",
    "TYPE": "ANSWER",
    "cellcol": "answercell",
    "deletable": false
   },
   "source": [
    "listed_zones = ['D', 'P', 'A']\n",
    "\n",
    "The crane first is going to leave from dispatch by comparing all the edge's weights for all its neighbours.\n",
    "despatch - D = 5 \n",
    "despatch - A = 10\n",
    "despatch - U = 30 \n",
    "despatch - Z = 16\n",
    "\n",
    "the quickest way is D\n",
    "\n",
    "than the crane, from D, will compare all the edge's weights for all its unvisited neighbours \n",
    "\n",
    "D - P = 15\n",
    "D - Z = 8\n",
    "\n",
    "the quickest way is Z\n",
    "\n",
    "the crane, from Z, will move on to Y since its the only availble route\n",
    "\n",
    "from Y \n",
    "\n",
    "Y - S = 12\n",
    "Y - P = 8\n",
    "\n",
    "the quickest way is P\n",
    "\n",
    "from P\n",
    "\n",
    "P - S = 12\n",
    "P - A = 10\n",
    "\n",
    "the quickest way is A\n",
    "\n",
    "from A\n",
    "\n",
    "A - U = 15\n",
    "A - dispatch = dispatch\n",
    "\n",
    "the quickest way is A\n",
    "\n",
    "route complete.\n",
    "\n",
    "The total time won't be the quickest way\n",
    "\n",
    "I have chosen this route to ilustrate a complete toute. other option could couse the algorithm will fails since it won't be able to get to all the points without intersecting a visited point.\n",
    "\n",
    "\n",
    "\n",
    "calculation:\n",
    "\n",
    "greedy algorithm:\n",
    "\n",
    "5 + 8 + 8 + 10 + 10 = 41 seconds\n",
    "\n",
    "quickest time:\n",
    "\n",
    "5 + 15 + 10 + 10 = 40 seconds"
   ]
  },
  {
   "cell_type": "markdown",
   "metadata": {
    "TYPE": "TEXT",
    "deletable": false,
    "editable": false
   },
   "source": [
    "##### Q4(b)(iv) (4 marks)\n",
    "An alternative greedy way to approach this problem is to visit the closest (in time) zone in the set from the current zone by the shortest path at each step.  \n",
    "\n",
    "Here is a greedy algorithm that visits the closest (in time) zone in the set  from the current zone by the shortest path each time, removing the zone from the set once it has been visited:\n",
    "\n",
    "1.\tlet *zones to visit* be the set of at least two zones to visit\n",
    "2.\tlet *current* be despatch\n",
    "3.\twhile *zones to visit* is not empty:\n",
    "    1.\tlet *nearest* be the nearest zone in *zones to visit* to *current*\n",
    "    2.\tvisit *nearest* by the shortest path from *current*\n",
    "    3.\tremove *nearest* from *zones to visit*\n",
    "    4.\tlet *current* be *nearest*\n",
    "4.  return to despatch by the shortest path from *current*\n",
    "\n",
    "What route will this greedy algorithm take for the counter-example you found in part (b)(iii)? Explain why it's that route.\n",
    "\n",
    "Which of the two greedy algorithms appears to be a better solution for the problem of taking the quickest route from despatch to visit a given set of zones in any order before returning to despatch?  Give a reason.\n",
    "\n",
    "What else do you need to analyse to support your design choice between the two greedy algorithms?\n",
    "\n"
   ]
  },
  {
   "cell_type": "markdown",
   "metadata": {
    "MARKS": 4,
    "QUESTION": "4biv",
    "TYPE": "ANSWER",
    "cellcol": "answercell",
    "deletable": false
   },
   "source": [
    "to find the quickest way the algorithm takes the neighbouring node regardless of the edge's weight as follows:\n",
    "\n",
    "listed_zones = ['D', 'P', 'A']\n",
    "best_route =[]\n",
    "\n",
    "start = 'despatch'\n",
    "\n",
    "for i in range(0,3):\n",
    "    \n",
    "    \n",
    "    best_route.append(shortest_path(warehouse, start, listed_zones[i]))\n",
    "    start = listed_zones[i]\n",
    "    if i < 2:\n",
    "        i += 1\n",
    "    \n",
    "best_route.append(shortest_path(warehouse, listed_zones[i], 'despatch'))\n",
    "print(best_route)\n",
    "\n",
    "\n",
    "output:\n",
    "\n",
    "[['despatch', 'D'], ['D', 'P'], ['P', 'A'], ['A', 'despatch']]\n",
    "\n",
    "5 + 15 + 10 + 10 = 40 seconds\n",
    "\n"
   ]
  },
  {
   "cell_type": "code",
   "execution_count": null,
   "metadata": {},
   "outputs": [],
   "source": []
  }
 ],
 "metadata": {
  "celltoolbar": "Edit Metadata",
  "kernelspec": {
   "display_name": "Python 3",
   "language": "python",
   "name": "python3"
  },
  "toc": {
   "base_numbering": 1,
   "nav_menu": {},
   "number_sections": false,
   "sideBar": true,
   "skip_h1_title": false,
   "title_cell": "Table of Contents",
   "title_sidebar": "Contents",
   "toc_cell": false,
   "toc_position": {},
   "toc_section_display": true,
   "toc_window_display": false
  }
 },
 "nbformat": 4,
 "nbformat_minor": 4
}
